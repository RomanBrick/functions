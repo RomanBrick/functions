{
  "nbformat": 4,
  "nbformat_minor": 0,
  "metadata": {
    "colab": {
      "provenance": [],
      "authorship_tag": "ABX9TyOr+dzUfGY+ecCk14g0AZOw",
      "include_colab_link": true
    },
    "kernelspec": {
      "name": "python3",
      "display_name": "Python 3"
    },
    "language_info": {
      "name": "python"
    }
  },
  "cells": [
    {
      "cell_type": "markdown",
      "metadata": {
        "id": "view-in-github",
        "colab_type": "text"
      },
      "source": [
        "<a href=\"https://colab.research.google.com/github/RomanBrick/functions/blob/main/PythonFunction.ipynb\" target=\"_parent\"><img src=\"https://colab.research.google.com/assets/colab-badge.svg\" alt=\"Open In Colab\"/></a>"
      ]
    },
    {
      "cell_type": "markdown",
      "source": [
        "### Loop\n",
        "\n"
      ],
      "metadata": {
        "id": "V_gzSe0fB-ww"
      }
    },
    {
      "cell_type": "code",
      "source": [
        "my_dict = {1:\"one\",2:\"two\"}\n",
        "my_list = [1,2,3,4,5]"
      ],
      "metadata": {
        "id": "XBfgOBIYEuaX"
      },
      "execution_count": 7,
      "outputs": []
    },
    {
      "cell_type": "code",
      "execution_count": 6,
      "metadata": {
        "colab": {
          "base_uri": "https://localhost:8080/"
        },
        "id": "ltvewXwDI2zq",
        "outputId": "f920a600-1add-4e38-a074-3c1136a3ff52"
      },
      "outputs": [
        {
          "output_type": "stream",
          "name": "stdout",
          "text": [
            "this is my key: 1\n",
            "this is my value: one\n",
            "this is my key: 2\n",
            "this is my value: two\n"
          ]
        }
      ],
      "source": [
        "for k,v in my_dict.items():\n",
        "  print(f\"this is my key: {k}\")\n",
        "  print(f\"this is my value: {v}\")\n",
        "\n",
        "\n"
      ]
    },
    {
      "cell_type": "code",
      "source": [
        "for i in my_list:\n",
        "  print(f\"this is my list value: {i}\")"
      ],
      "metadata": {
        "colab": {
          "base_uri": "https://localhost:8080/"
        },
        "id": "ca38pk3UDUjQ",
        "outputId": "3766b165-37b8-4934-c044-a4bf53750027"
      },
      "execution_count": 8,
      "outputs": [
        {
          "output_type": "stream",
          "name": "stdout",
          "text": [
            "this is my list value: 1\n",
            "this is my list value: 2\n",
            "this is my list value: 3\n",
            "this is my list value: 4\n",
            "this is my list value: 5\n"
          ]
        }
      ]
    }
  ]
}